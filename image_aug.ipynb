{
  "nbformat": 4,
  "nbformat_minor": 0,
  "metadata": {
    "colab": {
      "private_outputs": true,
      "provenance": [],
      "authorship_tag": "ABX9TyPPcqty+xaYakWOKfPMhVWy",
      "include_colab_link": true
    },
    "kernelspec": {
      "name": "python3",
      "display_name": "Python 3"
    },
    "language_info": {
      "name": "python"
    }
  },
  "cells": [
    {
      "cell_type": "markdown",
      "metadata": {
        "id": "view-in-github",
        "colab_type": "text"
      },
      "source": [
        "<a href=\"https://colab.research.google.com/github/kevin-eschbach/notebooks/blob/main/image_aug.ipynb\" target=\"_parent\"><img src=\"https://colab.research.google.com/assets/colab-badge.svg\" alt=\"Open In Colab\"/></a>"
      ]
    },
    {
      "cell_type": "code",
      "execution_count": null,
      "metadata": {
        "id": "HVmX73W3EbQB"
      },
      "outputs": [],
      "source": [
        "import cv2\n",
        "import os\n",
        "import string\n",
        "from google.colab.patches import cv2_imshow\n",
        "import random\n",
        "from copy import deepcopy\n",
        "import shutil\n",
        "import numpy as np\n",
        "from skimage.util import random_noise"
      ]
    },
    {
      "cell_type": "code",
      "source": [
        "from google.colab import drive\n",
        "drive.mount('/content/gdrive', force_remount=True)\n",
        "img_path = '/content/gdrive/MyDrive/Uni/22WT/AutonomousVehicles/img/' # change according to your folder structure"
      ],
      "metadata": {
        "id": "Xh56AMQWFzBm"
      },
      "execution_count": null,
      "outputs": []
    },
    {
      "cell_type": "code",
      "source": [
        "# Augmentation modes\n",
        "NOISE_SP = 0\n",
        "NOISE_GAUSS = 1\n",
        "BLURRING = 2\n",
        "BRIGHTNESS_CHANGE = 3"
      ],
      "metadata": {
        "id": "pHLvZXnOEj3O"
      },
      "execution_count": null,
      "outputs": []
    },
    {
      "cell_type": "code",
      "source": [
        "def noise_sp(image):\n",
        "  amount = random.random() * .5\n",
        "  noise_img = random_noise(image, mode='pepper',amount=amount)\n",
        "  noise_img = np.array(255*noise_img, dtype = 'uint8')\n",
        "  return noise_img\n",
        "\n",
        "def noise_gauss(image):\n",
        "  mean = 0\n",
        "  var = random.random() * .2\n",
        "  noise_img = random_noise(image, mode='gaussian', mean=mean, var=var)\n",
        "  noise_img = np.array(255*noise_img, dtype = 'uint8')\n",
        "  return noise_img\n",
        "\n",
        "\n",
        "def blurring(image):\n",
        "  return cv2.GaussianBlur\t(src=image, dst=image,\n",
        "                           ksize = (11,11),\n",
        "                           sigmaX=random.random() * 10,\n",
        "                           sigmaY=random.random() * 10,\n",
        "                           borderType = cv2.BORDER_REFLECT)\n",
        "  \n",
        "def brightness_change(image):\n",
        "  value = random.randint(-60, 60)\n",
        "  hsv = cv2.cvtColor(image, cv2.COLOR_BGR2HSV)\n",
        "  h, s, v = cv2.split(hsv)\n",
        "\n",
        "  if value > 0:\n",
        "    upper = 255 - value\n",
        "    v[v > upper] = 255\n",
        "    v[v <= upper] += value\n",
        "  else:\n",
        "    lower = abs(value)\n",
        "    v[v < lower] = 0\n",
        "    v[v >= lower] -= abs(value)\n",
        "\n",
        "  final_hsv = cv2.merge((h, s, v))\n",
        "  return cv2.cvtColor(final_hsv, cv2.COLOR_HSV2BGR)"
      ],
      "metadata": {
        "id": "xvteG1zMYpID"
      },
      "execution_count": null,
      "outputs": []
    },
    {
      "cell_type": "code",
      "source": [
        "counter = 0\n",
        "chance = .75\n",
        "for file in os.listdir(img_path):\n",
        "  if not file.endswith('.txt'):\n",
        "    file_name = file.split('.')\n",
        "    file_name = '.'.join(file_name[:len(file_name) - 1])\n",
        "    file_type = file.split('.')[-1] if len(file.split('.')) > 1 else 'dir'\n",
        "    if file_type in ['png', 'jpeg', 'jpg']:\n",
        "      original = cv2.imread(img_path + file, cv2.IMREAD_UNCHANGED)\n",
        "      augmented = deepcopy(original)\n",
        "      if original is None:\n",
        "        print('error')\n",
        "      else:\n",
        "        aug_mode = random.choice(range(4))\n",
        "        if aug_mode == NOISE_SP:\n",
        "          augmented = noise_sp(augmented)\n",
        "        elif aug_mode == NOISE_GAUSS:\n",
        "          augmented = noise_gauss(augmented)\n",
        "        elif aug_mode == BLURRING:\n",
        "          augmented = blurring(augmented)\n",
        "        elif aug_mode == BRIGHTNESS_CHANGE:\n",
        "          augmented = brightness_change(augmented)\n",
        "        \n",
        "        if (chance - random.random()) > 0:\n",
        "          # cutout part of image\n",
        "          pt1 = (random.randint(0, augmented.shape[0]),\n",
        "                 random.randint(0, augmented.shape[1]))\n",
        "          sizeX = random.randint(20, 100)\n",
        "          sizeY = random.randint(20, 100)\n",
        "          pt2 = (pt1[0] + sizeX, pt1[1] + sizeY)\n",
        "          if random.random() > .5:\n",
        "            cv2.rectangle(augmented, pt1, pt2, color=(0,0,0), thickness=-1)\n",
        "          else:\n",
        "            cv2.circle(augmented,pt1, sizeX, color=(0,0,0), thickness=-1 )\n",
        "\n",
        "\n",
        "        cv2.imwrite('/content/gdrive/MyDrive/Uni/22WT/AutonomousVehicles/augmented/' +'aug_' + file, augmented)\n",
        "        shutil.copy2(img_path + file_name + '.txt', \n",
        "                     '/content/gdrive/MyDrive/Uni/22WT/AutonomousVehicles/augmented/'+ 'aug_' + file_name + '.txt')\n",
        "        \n",
        "        counter += 1\n",
        "        if (counter % 100) == 0:\n",
        "          print(f'augmented {counter} files')\n",
        "    \n"
      ],
      "metadata": {
        "id": "KeA2udG3Orc6"
      },
      "execution_count": null,
      "outputs": []
    },
    {
      "cell_type": "code",
      "source": [
        "# To filter out unlabeled images\n",
        "# for file in os.listdir(img_path):\n",
        "#   if not file.endswith('.txt'):\n",
        "#     file_name = file.split('.')\n",
        "#     file_name = '.'.join(file_name[:len(file_name) - 1])\n",
        "#     file_type = file.split('.')[-1] if len(file.split('.')) > 1 else 'dir'\n",
        "#     if file_type in ['png', 'jpeg', 'jpg']:\n",
        "#       try:\n",
        "#         shutil.copy2(img_path + file_name + '.txt', \n",
        "#                      '/content/gdrive/MyDrive/Uni/22WT/AutonomousVehicles/test/'+ 'aug_' + file_name + '.txt')\n",
        "#       except Exception as e:\n",
        "#         print(str(e))"
      ],
      "metadata": {
        "id": "I2oijDPpQduM"
      },
      "execution_count": null,
      "outputs": []
    }
  ]
}